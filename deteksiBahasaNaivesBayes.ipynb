{
  "nbformat": 4,
  "nbformat_minor": 0,
  "metadata": {
    "colab": {
      "provenance": []
    },
    "kernelspec": {
      "name": "python3",
      "display_name": "Python 3"
    },
    "language_info": {
      "name": "python"
    }
  },
  "cells": [
    {
      "cell_type": "code",
      "source": [
        "import matplotlib.pyplot as plt\n",
        "import seaborn as sns\n",
        "import warnings\n",
        "import numpy as np\n",
        "warnings.filterwarnings('ignore')\n",
        "\n",
        "import pandas\n",
        "import re\n",
        "from tqdm import tqdm\n",
        "from sklearn.model_selection import train_test_split\n",
        "from sklearn.feature_extraction.text import TfidfVectorizer\n",
        "from sklearn.preprocessing import LabelEncoder\n",
        "\n",
        "from sklearn.naive_bayes import MultinomialNB\n",
        "from sklearn.pipeline import Pipeline\n",
        "\n",
        "from sklearn.metrics import mean_squared_error\n",
        "from sklearn.metrics import confusion_matrix, accuracy_score, precision_score, recall_score, f1_score\n",
        "from sklearn import metrics"
      ],
      "metadata": {
        "id": "tg21L0_JL4ZR"
      },
      "execution_count": 1,
      "outputs": []
    },
    {
      "cell_type": "code",
      "execution_count": 2,
      "metadata": {
        "colab": {
          "base_uri": "https://localhost:8080/",
          "height": 423
        },
        "id": "pg_M_cFeLwkL",
        "outputId": "eb4c3a87-3718-4914-afbf-96909ad34a95"
      },
      "outputs": [
        {
          "output_type": "execute_result",
          "data": {
            "text/plain": [
              "                                                    text  language\n",
              "0      klement gottwaldi surnukeha palsameeriti ning ...  Estonian\n",
              "1      sebes joseph pereira thomas  på eng the jesuit...   Swedish\n",
              "2      ถนนเจริญกรุง อักษรโรมัน thanon charoen krung เ...      Thai\n",
              "3      விசாகப்பட்டினம் தமிழ்ச்சங்கத்தை இந்துப் பத்திர...     Tamil\n",
              "4      de spons behoort tot het geslacht haliclona en...     Dutch\n",
              "...                                                  ...       ...\n",
              "21995  hors du terrain les années  et  sont des année...    French\n",
              "21996  ใน พศ  หลักจากที่เสด็จประพาสแหลมมลายู ชวา อินเ...      Thai\n",
              "21997  con motivo de la celebración del septuagésimoq...   Spanish\n",
              "21998  年月，當時還只有歲的她在美國出道，以mai-k名義推出首張英文《baby i like》，由...   Chinese\n",
              "21999   aprilie sonda spațială messenger a nasa și-a ...  Romanian\n",
              "\n",
              "[22000 rows x 2 columns]"
            ],
            "text/html": [
              "\n",
              "  <div id=\"df-441c9fb0-5acf-44a4-9991-474120a3e3f9\" class=\"colab-df-container\">\n",
              "    <div>\n",
              "<style scoped>\n",
              "    .dataframe tbody tr th:only-of-type {\n",
              "        vertical-align: middle;\n",
              "    }\n",
              "\n",
              "    .dataframe tbody tr th {\n",
              "        vertical-align: top;\n",
              "    }\n",
              "\n",
              "    .dataframe thead th {\n",
              "        text-align: right;\n",
              "    }\n",
              "</style>\n",
              "<table border=\"1\" class=\"dataframe\">\n",
              "  <thead>\n",
              "    <tr style=\"text-align: right;\">\n",
              "      <th></th>\n",
              "      <th>text</th>\n",
              "      <th>language</th>\n",
              "    </tr>\n",
              "  </thead>\n",
              "  <tbody>\n",
              "    <tr>\n",
              "      <th>0</th>\n",
              "      <td>klement gottwaldi surnukeha palsameeriti ning ...</td>\n",
              "      <td>Estonian</td>\n",
              "    </tr>\n",
              "    <tr>\n",
              "      <th>1</th>\n",
              "      <td>sebes joseph pereira thomas  på eng the jesuit...</td>\n",
              "      <td>Swedish</td>\n",
              "    </tr>\n",
              "    <tr>\n",
              "      <th>2</th>\n",
              "      <td>ถนนเจริญกรุง อักษรโรมัน thanon charoen krung เ...</td>\n",
              "      <td>Thai</td>\n",
              "    </tr>\n",
              "    <tr>\n",
              "      <th>3</th>\n",
              "      <td>விசாகப்பட்டினம் தமிழ்ச்சங்கத்தை இந்துப் பத்திர...</td>\n",
              "      <td>Tamil</td>\n",
              "    </tr>\n",
              "    <tr>\n",
              "      <th>4</th>\n",
              "      <td>de spons behoort tot het geslacht haliclona en...</td>\n",
              "      <td>Dutch</td>\n",
              "    </tr>\n",
              "    <tr>\n",
              "      <th>...</th>\n",
              "      <td>...</td>\n",
              "      <td>...</td>\n",
              "    </tr>\n",
              "    <tr>\n",
              "      <th>21995</th>\n",
              "      <td>hors du terrain les années  et  sont des année...</td>\n",
              "      <td>French</td>\n",
              "    </tr>\n",
              "    <tr>\n",
              "      <th>21996</th>\n",
              "      <td>ใน พศ  หลักจากที่เสด็จประพาสแหลมมลายู ชวา อินเ...</td>\n",
              "      <td>Thai</td>\n",
              "    </tr>\n",
              "    <tr>\n",
              "      <th>21997</th>\n",
              "      <td>con motivo de la celebración del septuagésimoq...</td>\n",
              "      <td>Spanish</td>\n",
              "    </tr>\n",
              "    <tr>\n",
              "      <th>21998</th>\n",
              "      <td>年月，當時還只有歲的她在美國出道，以mai-k名義推出首張英文《baby i like》，由...</td>\n",
              "      <td>Chinese</td>\n",
              "    </tr>\n",
              "    <tr>\n",
              "      <th>21999</th>\n",
              "      <td>aprilie sonda spațială messenger a nasa și-a ...</td>\n",
              "      <td>Romanian</td>\n",
              "    </tr>\n",
              "  </tbody>\n",
              "</table>\n",
              "<p>22000 rows × 2 columns</p>\n",
              "</div>\n",
              "    <div class=\"colab-df-buttons\">\n",
              "\n",
              "  <div class=\"colab-df-container\">\n",
              "    <button class=\"colab-df-convert\" onclick=\"convertToInteractive('df-441c9fb0-5acf-44a4-9991-474120a3e3f9')\"\n",
              "            title=\"Convert this dataframe to an interactive table.\"\n",
              "            style=\"display:none;\">\n",
              "\n",
              "  <svg xmlns=\"http://www.w3.org/2000/svg\" height=\"24px\" viewBox=\"0 -960 960 960\">\n",
              "    <path d=\"M120-120v-720h720v720H120Zm60-500h600v-160H180v160Zm220 220h160v-160H400v160Zm0 220h160v-160H400v160ZM180-400h160v-160H180v160Zm440 0h160v-160H620v160ZM180-180h160v-160H180v160Zm440 0h160v-160H620v160Z\"/>\n",
              "  </svg>\n",
              "    </button>\n",
              "\n",
              "  <style>\n",
              "    .colab-df-container {\n",
              "      display:flex;\n",
              "      gap: 12px;\n",
              "    }\n",
              "\n",
              "    .colab-df-convert {\n",
              "      background-color: #E8F0FE;\n",
              "      border: none;\n",
              "      border-radius: 50%;\n",
              "      cursor: pointer;\n",
              "      display: none;\n",
              "      fill: #1967D2;\n",
              "      height: 32px;\n",
              "      padding: 0 0 0 0;\n",
              "      width: 32px;\n",
              "    }\n",
              "\n",
              "    .colab-df-convert:hover {\n",
              "      background-color: #E2EBFA;\n",
              "      box-shadow: 0px 1px 2px rgba(60, 64, 67, 0.3), 0px 1px 3px 1px rgba(60, 64, 67, 0.15);\n",
              "      fill: #174EA6;\n",
              "    }\n",
              "\n",
              "    .colab-df-buttons div {\n",
              "      margin-bottom: 4px;\n",
              "    }\n",
              "\n",
              "    [theme=dark] .colab-df-convert {\n",
              "      background-color: #3B4455;\n",
              "      fill: #D2E3FC;\n",
              "    }\n",
              "\n",
              "    [theme=dark] .colab-df-convert:hover {\n",
              "      background-color: #434B5C;\n",
              "      box-shadow: 0px 1px 3px 1px rgba(0, 0, 0, 0.15);\n",
              "      filter: drop-shadow(0px 1px 2px rgba(0, 0, 0, 0.3));\n",
              "      fill: #FFFFFF;\n",
              "    }\n",
              "  </style>\n",
              "\n",
              "    <script>\n",
              "      const buttonEl =\n",
              "        document.querySelector('#df-441c9fb0-5acf-44a4-9991-474120a3e3f9 button.colab-df-convert');\n",
              "      buttonEl.style.display =\n",
              "        google.colab.kernel.accessAllowed ? 'block' : 'none';\n",
              "\n",
              "      async function convertToInteractive(key) {\n",
              "        const element = document.querySelector('#df-441c9fb0-5acf-44a4-9991-474120a3e3f9');\n",
              "        const dataTable =\n",
              "          await google.colab.kernel.invokeFunction('convertToInteractive',\n",
              "                                                    [key], {});\n",
              "        if (!dataTable) return;\n",
              "\n",
              "        const docLinkHtml = 'Like what you see? Visit the ' +\n",
              "          '<a target=\"_blank\" href=https://colab.research.google.com/notebooks/data_table.ipynb>data table notebook</a>'\n",
              "          + ' to learn more about interactive tables.';\n",
              "        element.innerHTML = '';\n",
              "        dataTable['output_type'] = 'display_data';\n",
              "        await google.colab.output.renderOutput(dataTable, element);\n",
              "        const docLink = document.createElement('div');\n",
              "        docLink.innerHTML = docLinkHtml;\n",
              "        element.appendChild(docLink);\n",
              "      }\n",
              "    </script>\n",
              "  </div>\n",
              "\n",
              "\n",
              "<div id=\"df-71c9abc9-3df7-436c-beb8-1b89a4a1c441\">\n",
              "  <button class=\"colab-df-quickchart\" onclick=\"quickchart('df-71c9abc9-3df7-436c-beb8-1b89a4a1c441')\"\n",
              "            title=\"Suggest charts\"\n",
              "            style=\"display:none;\">\n",
              "\n",
              "<svg xmlns=\"http://www.w3.org/2000/svg\" height=\"24px\"viewBox=\"0 0 24 24\"\n",
              "     width=\"24px\">\n",
              "    <g>\n",
              "        <path d=\"M19 3H5c-1.1 0-2 .9-2 2v14c0 1.1.9 2 2 2h14c1.1 0 2-.9 2-2V5c0-1.1-.9-2-2-2zM9 17H7v-7h2v7zm4 0h-2V7h2v10zm4 0h-2v-4h2v4z\"/>\n",
              "    </g>\n",
              "</svg>\n",
              "  </button>\n",
              "\n",
              "<style>\n",
              "  .colab-df-quickchart {\n",
              "      --bg-color: #E8F0FE;\n",
              "      --fill-color: #1967D2;\n",
              "      --hover-bg-color: #E2EBFA;\n",
              "      --hover-fill-color: #174EA6;\n",
              "      --disabled-fill-color: #AAA;\n",
              "      --disabled-bg-color: #DDD;\n",
              "  }\n",
              "\n",
              "  [theme=dark] .colab-df-quickchart {\n",
              "      --bg-color: #3B4455;\n",
              "      --fill-color: #D2E3FC;\n",
              "      --hover-bg-color: #434B5C;\n",
              "      --hover-fill-color: #FFFFFF;\n",
              "      --disabled-bg-color: #3B4455;\n",
              "      --disabled-fill-color: #666;\n",
              "  }\n",
              "\n",
              "  .colab-df-quickchart {\n",
              "    background-color: var(--bg-color);\n",
              "    border: none;\n",
              "    border-radius: 50%;\n",
              "    cursor: pointer;\n",
              "    display: none;\n",
              "    fill: var(--fill-color);\n",
              "    height: 32px;\n",
              "    padding: 0;\n",
              "    width: 32px;\n",
              "  }\n",
              "\n",
              "  .colab-df-quickchart:hover {\n",
              "    background-color: var(--hover-bg-color);\n",
              "    box-shadow: 0 1px 2px rgba(60, 64, 67, 0.3), 0 1px 3px 1px rgba(60, 64, 67, 0.15);\n",
              "    fill: var(--button-hover-fill-color);\n",
              "  }\n",
              "\n",
              "  .colab-df-quickchart-complete:disabled,\n",
              "  .colab-df-quickchart-complete:disabled:hover {\n",
              "    background-color: var(--disabled-bg-color);\n",
              "    fill: var(--disabled-fill-color);\n",
              "    box-shadow: none;\n",
              "  }\n",
              "\n",
              "  .colab-df-spinner {\n",
              "    border: 2px solid var(--fill-color);\n",
              "    border-color: transparent;\n",
              "    border-bottom-color: var(--fill-color);\n",
              "    animation:\n",
              "      spin 1s steps(1) infinite;\n",
              "  }\n",
              "\n",
              "  @keyframes spin {\n",
              "    0% {\n",
              "      border-color: transparent;\n",
              "      border-bottom-color: var(--fill-color);\n",
              "      border-left-color: var(--fill-color);\n",
              "    }\n",
              "    20% {\n",
              "      border-color: transparent;\n",
              "      border-left-color: var(--fill-color);\n",
              "      border-top-color: var(--fill-color);\n",
              "    }\n",
              "    30% {\n",
              "      border-color: transparent;\n",
              "      border-left-color: var(--fill-color);\n",
              "      border-top-color: var(--fill-color);\n",
              "      border-right-color: var(--fill-color);\n",
              "    }\n",
              "    40% {\n",
              "      border-color: transparent;\n",
              "      border-right-color: var(--fill-color);\n",
              "      border-top-color: var(--fill-color);\n",
              "    }\n",
              "    60% {\n",
              "      border-color: transparent;\n",
              "      border-right-color: var(--fill-color);\n",
              "    }\n",
              "    80% {\n",
              "      border-color: transparent;\n",
              "      border-right-color: var(--fill-color);\n",
              "      border-bottom-color: var(--fill-color);\n",
              "    }\n",
              "    90% {\n",
              "      border-color: transparent;\n",
              "      border-bottom-color: var(--fill-color);\n",
              "    }\n",
              "  }\n",
              "</style>\n",
              "\n",
              "  <script>\n",
              "    async function quickchart(key) {\n",
              "      const quickchartButtonEl =\n",
              "        document.querySelector('#' + key + ' button');\n",
              "      quickchartButtonEl.disabled = true;  // To prevent multiple clicks.\n",
              "      quickchartButtonEl.classList.add('colab-df-spinner');\n",
              "      try {\n",
              "        const charts = await google.colab.kernel.invokeFunction(\n",
              "            'suggestCharts', [key], {});\n",
              "      } catch (error) {\n",
              "        console.error('Error during call to suggestCharts:', error);\n",
              "      }\n",
              "      quickchartButtonEl.classList.remove('colab-df-spinner');\n",
              "      quickchartButtonEl.classList.add('colab-df-quickchart-complete');\n",
              "    }\n",
              "    (() => {\n",
              "      let quickchartButtonEl =\n",
              "        document.querySelector('#df-71c9abc9-3df7-436c-beb8-1b89a4a1c441 button');\n",
              "      quickchartButtonEl.style.display =\n",
              "        google.colab.kernel.accessAllowed ? 'block' : 'none';\n",
              "    })();\n",
              "  </script>\n",
              "</div>\n",
              "    </div>\n",
              "  </div>\n"
            ]
          },
          "metadata": {},
          "execution_count": 2
        }
      ],
      "source": [
        "# Memuat data\n",
        "data = pandas.read_csv(f'dataset.csv')\n",
        "data.columns = ('text','language')\n",
        "data"
      ]
    },
    {
      "cell_type": "code",
      "source": [
        "# Distribusi Data Pada Setiap Bahasa\n",
        "plt.figure(figsize=(7,5))\n",
        "sns.countplot(y=\"language\",data=data,palette=\"tab10\")\n",
        "plt.suptitle('Distribusi Data Pada Setiap Bahasa')\n",
        "plt.show()"
      ],
      "metadata": {
        "colab": {
          "base_uri": "https://localhost:8080/",
          "height": 515
        },
        "id": "-5kEVRkdMacu",
        "outputId": "38372e97-c52a-45ef-90e8-34db0e62897f"
      },
      "execution_count": 3,
      "outputs": [
        {
          "output_type": "display_data",
          "data": {
            "text/plain": [
              "<Figure size 700x500 with 1 Axes>"
            ],
            "image/png": "[encoded data removed]"
          },
          "metadata": {}
        }
      ]
    },
    {
      "cell_type": "code",
      "source": [
        "# Distribusi Panjang Kalimat Pada Data\n",
        "sent_lengths = [len(text.split()) for text in data.text.values]\n",
        "plt.subplots(1,2,figsize=(13,5))\n",
        "plt.suptitle('Distribusi Panjang Kalimat Pada Data')\n",
        "bins=[0,25,50,75,100,125,150,175,200,225,250,275,300,325,350,375,400]\n",
        "plt.subplot(1,2,1)\n",
        "sns.histplot(sent_lengths, bins=bins)\n",
        "plt.subplot(1,2,2)\n",
        "sns.distplot(sent_lengths, bins=bins)\n",
        "plt.show()"
      ],
      "metadata": {
        "colab": {
          "base_uri": "https://localhost:8080/",
          "height": 495
        },
        "id": "tY_A0mpLMdy-",
        "outputId": "a5b5b247-7069-4e27-a6ca-d4d75c540459"
      },
      "execution_count": 4,
      "outputs": [
        {
          "output_type": "display_data",
          "data": {
            "text/plain": [
              "<Figure size 1300x500 with 2 Axes>"
            ],
            "image/png": "[encoded data removed]"
          },
          "metadata": {}
        }
      ]
    },
    {
      "cell_type": "code",
      "source": [
        "# Pembersihan Teks\n",
        "def clean_txt(text):\n",
        "    text=text.lower()\n",
        "    text=re.sub(r'[^\\w\\s]',' ',text)\n",
        "    text=re.sub(r'[_0-9]',' ',text)\n",
        "    text=re.sub(r'\\s\\s+',' ',text)\n",
        "    return text\n",
        "\n",
        "# Penerapan Function clean_txt\n",
        "txt = 'Saya (&*(()))mencuci tangan $agar #terhindar dari$ kuman'\n",
        "print(clean_txt(txt))"
      ],
      "metadata": {
        "colab": {
          "base_uri": "https://localhost:8080/"
        },
        "id": "zB0kxX4cNril",
        "outputId": "ac8e8bc6-9975-46c3-8695-879868557109"
      },
      "execution_count": 5,
      "outputs": [
        {
          "output_type": "stream",
          "name": "stdout",
          "text": [
            "saya mencuci tangan agar terhindar dari kuman\n"
          ]
        }
      ]
    },
    {
      "cell_type": "code",
      "source": [
        "# Pemisahan Data Latih dan Uji\n",
        "x_train, x_test, y_train, y_test = train_test_split(data.text.values, data.language.values, test_size=0.1, random_state=42)\n",
        "x_train.shape, y_train.shape, x_test.shape, y_test.shape"
      ],
      "metadata": {
        "colab": {
          "base_uri": "https://localhost:8080/"
        },
        "id": "rzBAFNS8N30p",
        "outputId": "0880b5f7-768c-4004-f12f-43f6dc2cc077"
      },
      "execution_count": 6,
      "outputs": [
        {
          "output_type": "execute_result",
          "data": {
            "text/plain": [
              "((19800,), (19800,), (2200,), (2200,))"
            ]
          },
          "metadata": {},
          "execution_count": 6
        }
      ]
    },
    {
      "cell_type": "code",
      "source": [
        "# Vektorisasi\n",
        "x_train = [clean_txt(text) for text in tqdm(x_train)]\n",
        "x_test = [clean_txt(text) for text in tqdm(x_test)]\n",
        "\n",
        "# Tfidf Vectorizer\n",
        "tfidf = TfidfVectorizer()\n",
        "tfidf.fit(x_train)\n",
        "\n",
        "x_train_ready = tfidf.transform(x_train)\n",
        "x_test_ready = tfidf.transform(x_test)\n",
        "\n",
        "# x_train_ready,x_test_ready"
      ],
      "metadata": {
        "colab": {
          "base_uri": "https://localhost:8080/"
        },
        "id": "VKNnpUiWO-yO",
        "outputId": "0b2fdec8-1185-43ac-fe4a-fbebabd0ab83"
      },
      "execution_count": 7,
      "outputs": [
        {
          "output_type": "stream",
          "name": "stderr",
          "text": [
            "100%|██████████| 19800/19800 [00:00<00:00, 37327.55it/s]\n",
            "100%|██████████| 2200/2200 [00:00<00:00, 43234.37it/s]\n"
          ]
        }
      ]
    },
    {
      "cell_type": "code",
      "source": [
        "# Label Encoding\n",
        "enc = LabelEncoder()\n",
        "enc.fit(y_train)\n",
        "y_train_ready = enc.transform(y_train)\n",
        "y_test_ready = enc.transform(y_test)\n",
        "labels = enc.classes_\n",
        "\n",
        "# Pengujian Encoder\n",
        "preds = enc.inverse_transform([0,3,6])\n",
        "preds"
      ],
      "metadata": {
        "colab": {
          "base_uri": "https://localhost:8080/"
        },
        "id": "1cm6kb4fPB6O",
        "outputId": "ba40fa19-b871-4845-cbfe-8c277298215d"
      },
      "execution_count": 8,
      "outputs": [
        {
          "output_type": "execute_result",
          "data": {
            "text/plain": [
              "array(['Arabic', 'English', 'Hindi'], dtype=object)"
            ]
          },
          "metadata": {},
          "execution_count": 8
        }
      ]
    },
    {
      "cell_type": "code",
      "source": [
        "# Naive Bayes\n",
        "nb = MultinomialNB()\n",
        "nb.fit(x_train_ready,y_train_ready)\n",
        "\n",
        "# Pipeline untuk menggabungkan vektorizer dan model terlatih menjadi satu objek\n",
        "model = Pipeline([('vectorizer',tfidf),('nb',nb)])"
      ],
      "metadata": {
        "id": "YVeM8jxVdl9w"
      },
      "execution_count": 9,
      "outputs": []
    },
    {
      "cell_type": "code",
      "source": [
        "# Function untuk melakukan prediksi bahasa dari kalimat teks\n",
        "def predict(text):\n",
        "    pred = model.predict([clean_txt(text)])\n",
        "    ans = enc.inverse_transform(pred)\n",
        "    return ans[0]\n",
        "\n",
        "example_text = ['Saya mencuci tangan agar terhindar dari kuman',\n",
        "                'I wash my hands to avoid germs',\n",
        "                'أغسل يدي لتجنب الجراثيم',\n",
        "                'Ik was mijn handen om ziektekiemen te voorkomen',\n",
        "                'कीटाणुओं से बचने के लिए मैं अपने हाथ धोता हूं',\n",
        "                'Me lavo las manos para evitar gérmenes']\n",
        "result_language = []\n",
        "\n",
        "for text in example_text:\n",
        "  result_language.append(predict(text))\n",
        "\n",
        "for language in result_language:\n",
        "  print(language)"
      ],
      "metadata": {
        "colab": {
          "base_uri": "https://localhost:8080/"
        },
        "id": "TkrzpsJXeRvE",
        "outputId": "aff4aa6f-ad25-4c2e-c1ec-52650db70db9"
      },
      "execution_count": 10,
      "outputs": [
        {
          "output_type": "stream",
          "name": "stdout",
          "text": [
            "Indonesian\n",
            "English\n",
            "Arabic\n",
            "Dutch\n",
            "Hindi\n",
            "Spanish\n"
          ]
        }
      ]
    },
    {
      "cell_type": "code",
      "source": [
        "# Data Uji / Data Test\n",
        "y_text = ['Saya menanam pohon mangga bersama ayah', \"I planted a mango tree with my father\",\n",
        "          'Ik heb samen met mijn vader een mangoboom geplant', 'لقد زرعت شجرة مانجو مع والدي',\n",
        "          \"J'ai planté un manguier avec mon père\", 'Plantei uma mangueira com meu pai',\n",
        "          'Planté un árbol de mango con mi padre.', '父と一緒にマンゴーの木を植えました', 'Я посадил манговое дерево со своим отцом',\n",
        "          'मैंने अपने पिता के साथ एक आम का पेड़ लगाया', 'میں نے اپنے والد کے ساتھ آم کا درخت لگایا', 'من با پدرم یه درخت انبه کاشتم',\n",
        "          'ما د خپل پلار سره د آمو ونه کرله', '아버지와 함께 망고나무를 심었어요', 'அப்பாவோடு சேர்ந்து மாமரம் நட்டேன்',\n",
        "          'Babamla birlikte mango ağacı diktim', 'Istutasin koos isaga mangopuu', 'Am plantat un mango cu tatăl meu',\n",
        "          '我和父亲一起种了一棵芒果树', 'Jag planterade ett mangoträd med min pappa', 'Ego plantavi mango arborem cum patre meo',\n",
        "          'ฉันปลูกต้นมะม่วงกับพ่อ', 'Kakak saya pergi ke sekolah dengan sepeda' , 'My brother goes to school by bicycle',\n",
        "          'Mijn zus gaat met de fiets naar school', 'أختي تذهب إلى المدرسة بالدراجة', \"Ma sœur va à l'école à vélo\",\n",
        "          \"Meu irmão vai para a escola de bicicleta\", \"Mi hermano va al colegio en bicicleta\", \"私の兄は自転車で学校に行きます\",\n",
        "          \"Мой брат ездит в школу на велосипеде\", \"मेरा भाई साइकिल से स्कूल जाता है\", \"میرا بھائی سائیکل پر سکول جاتا ہے۔\",\n",
        "          \"برادرم با دوچرخه به مدرسه می رود\", \"زما ورور په بایسکل ښوونځي ته ځي\", \"내 동생은 자전거로 학교에 가요\",\n",
        "          \"அண்ணன் சைக்கிளில் பள்ளிக்குச் செல்கிறான்\", \"Kardeşim okula bisikletle gidiyor\", \"Mu vend käib koolis jalgrattaga\",\n",
        "          \"Fratele meu merge la școală cu bicicleta\", \"我弟弟骑自行车去上学\", \"Min bror går till skolan med cykel\",\n",
        "          \"Frater meus ad scholam per birotam venit\", \"ฉันซื้อดอกไม้ให้แม่\"]\n",
        "y_true_collect = ['Indonesian', 'English', 'Dutch', 'Arabic', 'French', 'Portugese', 'Spanish', 'Japanese', 'Russian', 'Hindi', 'Urdu',\n",
        "          'Persian', 'Pushto', 'Korean', 'Tamil', 'Turkish', 'Estonian', 'Romanian', 'Chinese', 'Swedish', 'Latin', 'Thai',\n",
        "          'Indonesian', 'English', 'Dutch', 'Arabic', 'French', 'Portugese', 'Spanish', 'Japanese', 'Russian', 'Hindi', 'Urdu',\n",
        "          'Persian', 'Pushto', 'Korean', 'Tamil', 'Turkish', 'Estonian', 'Romanian', 'Chinese', 'Swedish', 'Latin', 'Thai']\n",
        "y_true_real = []\n",
        "\n",
        "\n",
        "for collect in y_true_collect:\n",
        "  collect_result = np.where(labels == collect)[0][0]\n",
        "  y_true_real.append(collect_result)\n",
        "\n",
        "# Data Prediksi\n",
        "y_pred_lang = []\n",
        "y_pred_real = []\n",
        "for text in y_text:\n",
        "  text_result = np.where(labels == predict(text))[0][0]\n",
        "  y_pred_lang.append(predict(text))\n",
        "  y_pred_real.append(text_result)\n",
        "\n",
        "# Pembersihan Data Uji dan Test\n",
        "y_true = []\n",
        "y_true = [1 for i in range(len(y_true_real))]\n",
        "\n",
        "y_pred = []\n",
        "y_pred_check = np.isclose(y_true_real, y_pred_real)\n",
        "for pred in y_pred_check:\n",
        "  if pred == True:\n",
        "    y_pred.append(1)\n",
        "  else:\n",
        "    y_pred.append(0)\n",
        "\n",
        "print(\"Data Uji : \")\n",
        "print(pandas.value_counts(y_pred_lang))"
      ],
      "metadata": {
        "colab": {
          "base_uri": "https://localhost:8080/"
        },
        "id": "zmLiwge7ze4j",
        "outputId": "ef057d7e-e968-4c40-e759-acece262d55d"
      },
      "execution_count": 11,
      "outputs": [
        {
          "output_type": "stream",
          "name": "stdout",
          "text": [
            "Data Uji : \n",
            "Swedish       7\n",
            "Indonesian    2\n",
            "English       2\n",
            "Latin         2\n",
            "Romanian      2\n",
            "Estonian      2\n",
            "Tamil         2\n",
            "Korean        2\n",
            "Pushto        2\n",
            "Persian       2\n",
            "Urdu          2\n",
            "Hindi         2\n",
            "Russian       2\n",
            "Spanish       2\n",
            "Portugese     2\n",
            "French        2\n",
            "Arabic        2\n",
            "Dutch         2\n",
            "Thai          2\n",
            "Turkish       1\n",
            "dtype: int64\n"
          ]
        }
      ]
    },
    {
      "cell_type": "code",
      "source": [
        "# Mean Square Error\n",
        "mse = mean_squared_error(y_true, y_pred)\n",
        "mse"
      ],
      "metadata": {
        "colab": {
          "base_uri": "https://localhost:8080/"
        },
        "id": "RQtAYkTVXxQJ",
        "outputId": "53e67dd5-a4be-4cf4-fa80-3bac605e9ea0"
      },
      "execution_count": 12,
      "outputs": [
        {
          "output_type": "execute_result",
          "data": {
            "text/plain": [
              "0.11363636363636363"
            ]
          },
          "metadata": {},
          "execution_count": 12
        }
      ]
    },
    {
      "cell_type": "code",
      "source": [
        "# Confusion Matrix / Matriks Pengujian\n",
        "cm = confusion_matrix(y_true, y_pred)\n",
        "cm_display = metrics.ConfusionMatrixDisplay(confusion_matrix = cm, display_labels = [False, True])\n",
        "cm_display.plot()\n",
        "plt.show()\n",
        "print(cm)"
      ],
      "metadata": {
        "colab": {
          "base_uri": "https://localhost:8080/",
          "height": 484
        },
        "id": "nHC0zBwlyA-B",
        "outputId": "a4e261b9-33a8-4d13-8ddf-387f26565377"
      },
      "execution_count": 13,
      "outputs": [
        {
          "output_type": "display_data",
          "data": {
            "text/plain": [
              "<Figure size 640x480 with 2 Axes>"
            ],
            "image/png": "[encoded data removed]"
          },
          "metadata": {}
        },
        {
          "output_type": "stream",
          "name": "stdout",
          "text": [
            "[[ 0  0]\n",
            " [ 5 39]]\n"
          ]
        }
      ]
    },
    {
      "cell_type": "code",
      "source": [
        "# Metrik Kinerja\n",
        "accuracy = accuracy_score(y_true, y_pred)\n",
        "precision = precision_score(y_true, y_pred, average='weighted')\n",
        "recall = recall_score(y_true, y_pred, average='weighted')\n",
        "f1 = f1_score(y_true, y_pred, average='weighted')\n",
        "\n",
        "print(\"Akurasi:\", accuracy)\n",
        "print(\"Presisi:\", precision)\n",
        "print(\"Recall:\", recall)\n",
        "print(\"F1 Score:\", f1)"
      ],
      "metadata": {
        "colab": {
          "base_uri": "https://localhost:8080/"
        },
        "id": "hFxW5p6C6qtR",
        "outputId": "b6ebd8c9-3870-43a2-a522-79ac3dbeb6d6"
      },
      "execution_count": 14,
      "outputs": [
        {
          "output_type": "stream",
          "name": "stdout",
          "text": [
            "Akurasi: 0.8863636363636364\n",
            "Presisi: 1.0\n",
            "Recall: 0.8863636363636364\n",
            "F1 Score: 0.9397590361445783\n"
          ]
        }
      ]
    }
  ]
}